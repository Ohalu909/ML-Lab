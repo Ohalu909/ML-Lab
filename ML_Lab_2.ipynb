{
  "nbformat": 4,
  "nbformat_minor": 0,
  "metadata": {
    "colab": {
      "provenance": [],
      "mount_file_id": "18GtnvN-PBl0zvENQvUkKDTVD8KvBfzRL",
      "authorship_tag": "ABX9TyP35iLOeylEf5ehygIake9/",
      "include_colab_link": true
    },
    "kernelspec": {
      "name": "python3",
      "display_name": "Python 3"
    },
    "language_info": {
      "name": "python"
    }
  },
  "cells": [
    {
      "cell_type": "markdown",
      "metadata": {
        "id": "view-in-github",
        "colab_type": "text"
      },
      "source": [
        "<a href=\"https://colab.research.google.com/github/Ohalu909/ML-Lab/blob/main/ML_Lab_2.ipynb\" target=\"_parent\"><img src=\"https://colab.research.google.com/assets/colab-badge.svg\" alt=\"Open In Colab\"/></a>"
      ]
    },
    {
      "cell_type": "code",
      "execution_count": null,
      "metadata": {
        "id": "bAL3ReFOZ9kA"
      },
      "outputs": [],
      "source": [
        "# Data Manipulation\n",
        "import numpy as np\n",
        "import pandas as pd\n",
        "from   pandas import DataFrame\n",
        "import math\n",
        "\n",
        "# Data Visualization\n",
        "import seaborn as sns\n",
        "import matplotlib.pyplot as plt"
      ]
    },
    {
      "cell_type": "markdown",
      "source": [
        "# 1. Data Preparation - Load the given dataset of chemical information about wine.\n",
        "Merge the two datasets and prepare the data for modeling.\n",
        "Split the dataset into training, validation and testing sets for model evaluation."
      ],
      "metadata": {
        "id": "XwtG84kUfKph"
      }
    },
    {
      "cell_type": "code",
      "source": [
        "# read the data and store data\n",
        "red_wine_data = pd.read_csv('/content/drive/MyDrive/ML Lab 2/winequality-red.csv', delimiter=';')\n",
        "white_wine_data = pd.read_csv('/content/drive/MyDrive/ML Lab 2/winequality-white.csv', delimiter=';')\n",
        "# Merge the two datasets\n",
        "merged_df = pd.concat([red_wine_data, white_wine_data], ignore_index=True)\n",
        "\n",
        "# print a summary of the data\n",
        "print(merged_df)"
      ],
      "metadata": {
        "id": "VwR_2EGVfMLe",
        "colab": {
          "base_uri": "https://localhost:8080/"
        },
        "outputId": "e3559952-8513-4eb0-d17f-766384be39fb"
      },
      "execution_count": null,
      "outputs": [
        {
          "output_type": "stream",
          "name": "stdout",
          "text": [
            "      fixed acidity  volatile acidity  citric acid  residual sugar  chlorides  \\\n",
            "0               7.4              0.70         0.00             1.9      0.076   \n",
            "1               7.8              0.88         0.00             2.6      0.098   \n",
            "2               7.8              0.76         0.04             2.3      0.092   \n",
            "3              11.2              0.28         0.56             1.9      0.075   \n",
            "4               7.4              0.70         0.00             1.9      0.076   \n",
            "...             ...               ...          ...             ...        ...   \n",
            "6492            6.2              0.21         0.29             1.6      0.039   \n",
            "6493            6.6              0.32         0.36             8.0      0.047   \n",
            "6494            6.5              0.24         0.19             1.2      0.041   \n",
            "6495            5.5              0.29         0.30             1.1      0.022   \n",
            "6496            6.0              0.21         0.38             0.8      0.020   \n",
            "\n",
            "      free sulfur dioxide  total sulfur dioxide  density    pH  sulphates  \\\n",
            "0                    11.0                  34.0  0.99780  3.51       0.56   \n",
            "1                    25.0                  67.0  0.99680  3.20       0.68   \n",
            "2                    15.0                  54.0  0.99700  3.26       0.65   \n",
            "3                    17.0                  60.0  0.99800  3.16       0.58   \n",
            "4                    11.0                  34.0  0.99780  3.51       0.56   \n",
            "...                   ...                   ...      ...   ...        ...   \n",
            "6492                 24.0                  92.0  0.99114  3.27       0.50   \n",
            "6493                 57.0                 168.0  0.99490  3.15       0.46   \n",
            "6494                 30.0                 111.0  0.99254  2.99       0.46   \n",
            "6495                 20.0                 110.0  0.98869  3.34       0.38   \n",
            "6496                 22.0                  98.0  0.98941  3.26       0.32   \n",
            "\n",
            "      alcohol  quality  \n",
            "0         9.4        5  \n",
            "1         9.8        5  \n",
            "2         9.8        5  \n",
            "3         9.8        6  \n",
            "4         9.4        5  \n",
            "...       ...      ...  \n",
            "6492     11.2        6  \n",
            "6493      9.6        5  \n",
            "6494      9.4        6  \n",
            "6495     12.8        7  \n",
            "6496     11.8        6  \n",
            "\n",
            "[6497 rows x 12 columns]\n"
          ]
        }
      ]
    },
    {
      "cell_type": "code",
      "source": [
        "# Scaling/normalizing numerical values\n",
        "from sklearn.preprocessing import MinMaxScaler\n",
        "\n",
        "# create a MinMaxScaler object\n",
        "scaler = MinMaxScaler()\n",
        "\n",
        "# fit the scaler object to the data and transform the data\n",
        "normalized_data = scaler.fit_transform(merged_df)\n",
        "\n",
        "# convert the normalized data back to a pandas dataframe\n",
        "normalized_df = pd.DataFrame(normalized_data, columns=merged_df.columns)"
      ],
      "metadata": {
        "id": "_ftvtkiiDO1E"
      },
      "execution_count": null,
      "outputs": []
    },
    {
      "cell_type": "code",
      "source": [
        "from sklearn.model_selection import train_test_split\n",
        "\n",
        "# Split the dataset into training and temporary sets\n",
        "X_train_temp, X_test, y_train_temp, y_test = train_test_split(normalized_df.drop('quality', axis=1), merged_df['quality'], test_size=0.2, random_state=42)\n",
        "\n",
        "# Further split the temporary set into training and validation sets\n",
        "X_train, X_val, y_train, y_val = train_test_split(X_train_temp, y_train_temp, test_size=0.25, random_state=42)\n",
        "\n",
        "# Display the sizes of the split sets\n",
        "print(\"Training set size:\", X_train.shape[0])\n",
        "print(\"Validation set size:\", X_val.shape[0])\n",
        "print(\"Testing set size:\", X_test.shape[0])"
      ],
      "metadata": {
        "id": "32w7wzoifVxM",
        "colab": {
          "base_uri": "https://localhost:8080/"
        },
        "outputId": "05d93dc3-4da9-4689-d1c3-6e4a3d07088c"
      },
      "execution_count": null,
      "outputs": [
        {
          "output_type": "stream",
          "name": "stdout",
          "text": [
            "Training set size: 3897\n",
            "Validation set size: 1300\n",
            "Testing set size: 1300\n"
          ]
        }
      ]
    },
    {
      "cell_type": "markdown",
      "source": [
        "# 2. Model Development – Design 5 different neural network architectures to be trained.\n",
        "Show the network architecture in figures.\n",
        "Train the neural network models using the training dataset and evaluate the model with validation data.\n",
        "Analyse the training and validation loss curve and report your observations and analysis."
      ],
      "metadata": {
        "id": "SDH6U53MfZGO"
      }
    },
    {
      "cell_type": "code",
      "source": [
        "import tensorflow as tf\n",
        "from tensorflow import keras\n",
        "from tensorflow.keras import layers\n",
        "\n",
        "input_dim = 11\n",
        "embedding_dim = 1\n",
        "max_seq_length = 1\n",
        "output_dim = 11\n",
        "input_length = 11\n",
        "\n",
        "# 1. Multilayer Perceptron (MLP)\n",
        "model_mlp = keras.Sequential([\n",
        "    layers.Dense(64, activation='relu', input_shape=(input_dim,)),\n",
        "    layers.Dense(64, activation='relu'),\n",
        "    layers.Dense(1)\n",
        "])\n",
        "\n",
        "# 2. Single Layer Perceptron (SLP)\n",
        "model_slp = keras.Sequential([\n",
        "    layers.Dense(64, activation='relu', input_shape=(input_dim,)),\n",
        "    layers.Dense(1)\n",
        "])\n",
        "\n",
        "# 3. Recurrent Neural Network (RNN)\n",
        "model_rnn = keras.Sequential([\n",
        "    layers.Embedding(input_dim, output_dim=embedding_dim, input_length=max_seq_length),\n",
        "    layers.LSTM(64),\n",
        "    layers.Dense(1)\n",
        "])\n",
        "\n",
        "# 4. Long Short-Term Memory (LSTM)\n",
        "model_lstm = keras.Sequential([\n",
        "    layers.Embedding(input_dim, output_dim=embedding_dim, input_length=max_seq_length),\n",
        "    layers.GRU(64),\n",
        "    layers.Dense(1)\n",
        "])\n",
        "\n",
        "# 5. Feed Forward\n",
        "model_fnn = keras.Sequential([\n",
        "    layers.Dense(64, activation='relu', input_shape=(input_dim,)),\n",
        "    layers.Dense(64, activation='relu'),\n",
        "    layers.Dense(1, activation='sigmoid')\n",
        "])\n",
        "\n",
        "# Compile the models\n",
        "model_mlp.compile(optimizer='adam', loss='mse')\n",
        "model_slp.compile(optimizer='adam', loss='mse')\n",
        "model_rnn.compile(optimizer='adam', loss='mse')\n",
        "model_lstm.compile(optimizer='adam', loss='mse')\n",
        "model_fnn.compile(optimizer='adam', loss='mse')\n",
        "\n",
        "# Train the models\n",
        "print('-----model_mlp-----')\n",
        "history_mlp = model_mlp.fit(X_train, y_train, epochs=10, batch_size=32, validation_data=(X_val, y_val))\n",
        "print('\\n-----model_slp-----')\n",
        "history_slp = model_slp.fit(X_train, y_train, epochs=10, batch_size=32, validation_data=(X_val, y_val))\n",
        "print('\\n-----model_rnn-----')\n",
        "history_rnn = model_rnn.fit(X_train, y_train, epochs=10, batch_size=32, validation_data=(X_val, y_val))\n",
        "print('\\n-----model_lstm-----')\n",
        "history_lstm = model_lstm.fit(X_train, y_train, epochs=10, batch_size=32, validation_data=(X_val, y_val))\n",
        "print('\\n-----model_fnn-----')\n",
        "history_fnn = model_fnn.fit(X_train, y_train, epochs=10, batch_size=32, validation_data=(X_val, y_val))\n",
        "\n"
      ],
      "metadata": {
        "id": "rHZcKd8-fdIa",
        "colab": {
          "base_uri": "https://localhost:8080/"
        },
        "outputId": "33fbc3b8-4eda-4d3a-f4dc-106e023b3962"
      },
      "execution_count": null,
      "outputs": [
        {
          "output_type": "stream",
          "name": "stdout",
          "text": [
            "-----model_mlp-----\n",
            "Epoch 1/10\n",
            "122/122 [==============================] - 1s 3ms/step - loss: 10.9516 - val_loss: 0.8096\n",
            "Epoch 2/10\n",
            "122/122 [==============================] - 0s 2ms/step - loss: 0.7226 - val_loss: 0.7262\n",
            "Epoch 3/10\n",
            "122/122 [==============================] - 0s 2ms/step - loss: 0.6721 - val_loss: 0.6894\n",
            "Epoch 4/10\n",
            "122/122 [==============================] - 0s 3ms/step - loss: 0.6463 - val_loss: 0.6552\n",
            "Epoch 5/10\n",
            "122/122 [==============================] - 1s 4ms/step - loss: 0.6180 - val_loss: 0.6350\n",
            "Epoch 6/10\n",
            "122/122 [==============================] - 1s 4ms/step - loss: 0.6026 - val_loss: 0.6136\n",
            "Epoch 7/10\n",
            "122/122 [==============================] - 1s 4ms/step - loss: 0.5833 - val_loss: 0.6007\n",
            "Epoch 8/10\n",
            "122/122 [==============================] - 0s 4ms/step - loss: 0.5657 - val_loss: 0.5865\n",
            "Epoch 9/10\n",
            "122/122 [==============================] - 0s 4ms/step - loss: 0.5509 - val_loss: 0.5851\n",
            "Epoch 10/10\n",
            "122/122 [==============================] - 0s 4ms/step - loss: 0.5500 - val_loss: 0.5781\n",
            "\n",
            "-----model_slp-----\n",
            "Epoch 1/10\n",
            "122/122 [==============================] - 1s 5ms/step - loss: 17.0960 - val_loss: 2.6355\n",
            "Epoch 2/10\n",
            "122/122 [==============================] - 0s 2ms/step - loss: 1.1474 - val_loss: 0.9861\n",
            "Epoch 3/10\n",
            "122/122 [==============================] - 0s 2ms/step - loss: 0.9048 - val_loss: 0.9210\n",
            "Epoch 4/10\n",
            "122/122 [==============================] - 0s 2ms/step - loss: 0.8383 - val_loss: 0.8449\n",
            "Epoch 5/10\n",
            "122/122 [==============================] - 0s 2ms/step - loss: 0.7710 - val_loss: 0.7854\n",
            "Epoch 6/10\n",
            "122/122 [==============================] - 0s 2ms/step - loss: 0.7190 - val_loss: 0.7327\n",
            "Epoch 7/10\n",
            "122/122 [==============================] - 0s 2ms/step - loss: 0.6827 - val_loss: 0.6991\n",
            "Epoch 8/10\n",
            "122/122 [==============================] - 0s 2ms/step - loss: 0.6598 - val_loss: 0.6807\n",
            "Epoch 9/10\n",
            "122/122 [==============================] - 0s 2ms/step - loss: 0.6408 - val_loss: 0.6575\n",
            "Epoch 10/10\n",
            "122/122 [==============================] - 0s 2ms/step - loss: 0.6232 - val_loss: 0.6415\n",
            "\n",
            "-----model_rnn-----\n",
            "Epoch 1/10\n",
            "122/122 [==============================] - 4s 14ms/step - loss: 7.6283 - val_loss: 0.8242\n",
            "Epoch 2/10\n",
            "122/122 [==============================] - 1s 10ms/step - loss: 0.7550 - val_loss: 0.8212\n",
            "Epoch 3/10\n",
            "122/122 [==============================] - 2s 16ms/step - loss: 0.7541 - val_loss: 0.8215\n",
            "Epoch 4/10\n",
            "122/122 [==============================] - 2s 16ms/step - loss: 0.7597 - val_loss: 0.8417\n",
            "Epoch 5/10\n",
            "122/122 [==============================] - 1s 11ms/step - loss: 0.7575 - val_loss: 0.8345\n",
            "Epoch 6/10\n",
            "122/122 [==============================] - 1s 10ms/step - loss: 0.7610 - val_loss: 0.8280\n",
            "Epoch 7/10\n",
            "122/122 [==============================] - 1s 9ms/step - loss: 0.7597 - val_loss: 0.8219\n",
            "Epoch 8/10\n",
            "122/122 [==============================] - 1s 10ms/step - loss: 0.7551 - val_loss: 0.8342\n",
            "Epoch 9/10\n",
            "122/122 [==============================] - 1s 10ms/step - loss: 0.7569 - val_loss: 0.8343\n",
            "Epoch 10/10\n",
            "122/122 [==============================] - 1s 9ms/step - loss: 0.7568 - val_loss: 0.8228\n",
            "\n",
            "-----model_lstm-----\n",
            "Epoch 1/10\n",
            "122/122 [==============================] - 5s 21ms/step - loss: 7.6423 - val_loss: 0.8293\n",
            "Epoch 2/10\n",
            "122/122 [==============================] - 2s 16ms/step - loss: 0.7663 - val_loss: 0.8250\n",
            "Epoch 3/10\n",
            "122/122 [==============================] - 1s 12ms/step - loss: 0.7592 - val_loss: 0.8211\n",
            "Epoch 4/10\n",
            "122/122 [==============================] - 1s 10ms/step - loss: 0.7685 - val_loss: 0.8348\n",
            "Epoch 5/10\n",
            "122/122 [==============================] - 1s 9ms/step - loss: 0.7685 - val_loss: 0.8235\n",
            "Epoch 6/10\n",
            "122/122 [==============================] - 1s 10ms/step - loss: 0.7720 - val_loss: 0.8215\n",
            "Epoch 7/10\n",
            "122/122 [==============================] - 1s 10ms/step - loss: 0.7740 - val_loss: 0.8311\n",
            "Epoch 8/10\n",
            "122/122 [==============================] - 1s 10ms/step - loss: 0.7770 - val_loss: 0.8548\n",
            "Epoch 9/10\n",
            "122/122 [==============================] - 1s 10ms/step - loss: 0.7739 - val_loss: 0.8211\n",
            "Epoch 10/10\n",
            "122/122 [==============================] - 1s 10ms/step - loss: 0.7635 - val_loss: 0.8225\n",
            "\n",
            "-----model_fnn-----\n",
            "Epoch 1/10\n",
            "122/122 [==============================] - 1s 3ms/step - loss: 24.8220 - val_loss: 24.1132\n",
            "Epoch 2/10\n",
            "122/122 [==============================] - 0s 3ms/step - loss: 23.8991 - val_loss: 24.1071\n",
            "Epoch 3/10\n",
            "122/122 [==============================] - 0s 2ms/step - loss: 23.8965 - val_loss: 24.1061\n",
            "Epoch 4/10\n",
            "122/122 [==============================] - 0s 2ms/step - loss: 23.8959 - val_loss: 24.1058\n",
            "Epoch 5/10\n",
            "122/122 [==============================] - 0s 2ms/step - loss: 23.8956 - val_loss: 24.1056\n",
            "Epoch 6/10\n",
            "122/122 [==============================] - 0s 3ms/step - loss: 23.8955 - val_loss: 24.1056\n",
            "Epoch 7/10\n",
            "122/122 [==============================] - 0s 2ms/step - loss: 23.8955 - val_loss: 24.1055\n",
            "Epoch 8/10\n",
            "122/122 [==============================] - 0s 2ms/step - loss: 23.8954 - val_loss: 24.1055\n",
            "Epoch 9/10\n",
            "122/122 [==============================] - 0s 3ms/step - loss: 23.8954 - val_loss: 24.1055\n",
            "Epoch 10/10\n",
            "122/122 [==============================] - 0s 3ms/step - loss: 23.8954 - val_loss: 24.1054\n"
          ]
        }
      ]
    },
    {
      "cell_type": "code",
      "source": [
        "# Plot the loss curves\n",
        "plt.plot(history_mlp.history['loss'], label='MLP')\n",
        "plt.plot(history_slp.history['loss'], label='SLP')\n",
        "plt.plot(history_rnn.history['loss'], label='RNN')\n",
        "plt.plot(history_lstm.history['loss'], label='LSTM')\n",
        "plt.plot(history_fnn.history['loss'], label='FNN')\n",
        "plt.title('Training Loss')\n",
        "plt.xlabel('Epochs')\n",
        "plt.ylabel('Loss')\n",
        "plt.legend()\n",
        "plt.show()"
      ],
      "metadata": {
        "colab": {
          "base_uri": "https://localhost:8080/",
          "height": 472
        },
        "id": "zc8s_mPgFj7G",
        "outputId": "10cb9496-36bd-41b6-9144-0a6a9ea64c4e"
      },
      "execution_count": null,
      "outputs": [
        {
          "output_type": "display_data",
          "data": {
            "text/plain": [
              "<Figure size 640x480 with 1 Axes>"
            ],
            "image/png": "[encoded data removed]"
          },
          "metadata": {}
        }
      ]
    },
    {
      "cell_type": "markdown",
      "source": [
        "Based on above loss curve:\n",
        "- FNN has the biggest or maximum loss and it is barely changed throught the 10 epochs. Hence, its perfomance it the poorest among the other architecture.\n",
        "- SLP has a large loss during the first few epochs but it is gradually became smaller through the next epochs.\n",
        "- MLP has a large but smaller loss compared to SLP during the first few epochs and gradually become smaller through the next epochs. Reaching the end of epoch, MLP loss is the smallest or minimum among the other architecture.\n",
        "- RNN and LSTM has the same loss during the first few epoch and it is smaller compared to MLP at the beginning. But, their final loss is not the minimum."
      ],
      "metadata": {
        "id": "yKYhJZArGBvi"
      }
    },
    {
      "cell_type": "markdown",
      "source": [
        "# 3. Model Tuning – Choose the best model architecture based on Step 2 and perform hyperparameter tuning.\n",
        "Justify the reason on how you decide the best model.\n",
        "Identify the hyperparameters you wish to tune (e.g activation function,learning rate, optimizer etc).\n",
        "Perform a systematic analysis to analyse the performance of the identified model\n",
        "with different hyperparameters.\n",
        "Report your results in a table."
      ],
      "metadata": {
        "id": "p-MUOXC851GM"
      }
    },
    {
      "cell_type": "markdown",
      "source": [
        "The best model based on step 2 is neural network with Multi Layer Perceptron(MLP). It is the best model because its value of loss at the end of the epochs is the smallest or minimum. The goal of training process is to minimize the loss function, so the model could learn to make more accurate predictions. Hence MLP is the best model among the 5 neural network architecture.\n",
        "\n",
        "\n",
        "---\n",
        "\n",
        "Hyperparameters that we will use for this model tuning is activation function and optimizer."
      ],
      "metadata": {
        "id": "gJ3j4kY_J6im"
      }
    },
    {
      "cell_type": "code",
      "source": [
        "model_mlp_1 = keras.Sequential([\n",
        "    layers.Dense(64, activation='relu', input_shape=(input_dim,)),\n",
        "    layers.Dense(64, activation='sigmoid'),\n",
        "    layers.Dense(1)\n",
        "])\n",
        "\n",
        "model_mlp_2 = keras.Sequential([\n",
        "    layers.Dense(64, activation='relu', input_shape=(input_dim,)),\n",
        "    layers.Dense(64, activation='elu'),\n",
        "    layers.Dense(1)\n",
        "])\n",
        "\n",
        "model_mlp_1.compile(optimizer='adam', loss='mse')\n",
        "model_mlp_2.compile(optimizer='adam', loss='mse')\n",
        "\n",
        "print('-----model_mlp_1-----')\n",
        "history_mlp_1 = model_mlp_1.fit(X_train, y_train, epochs=10, batch_size=32, validation_data=(X_val, y_val))\n",
        "print('-----model_mlp_2-----')\n",
        "history_mlp_2 = model_mlp_2.fit(X_train, y_train, epochs=10, batch_size=32, validation_data=(X_val, y_val))\n"
      ],
      "metadata": {
        "id": "BPutYsdE6F79",
        "colab": {
          "base_uri": "https://localhost:8080/"
        },
        "outputId": "889b6d6d-81a5-4abd-be23-ee5478a12156"
      },
      "execution_count": null,
      "outputs": [
        {
          "output_type": "stream",
          "name": "stdout",
          "text": [
            "-----model_mlp_1-----\n",
            "Epoch 1/10\n",
            "122/122 [==============================] - 2s 5ms/step - loss: 11.5471 - val_loss: 0.8129\n",
            "Epoch 2/10\n",
            "122/122 [==============================] - 0s 3ms/step - loss: 0.7226 - val_loss: 0.7628\n",
            "Epoch 3/10\n",
            "122/122 [==============================] - 0s 3ms/step - loss: 0.6760 - val_loss: 0.7164\n",
            "Epoch 4/10\n",
            "122/122 [==============================] - 0s 4ms/step - loss: 0.6349 - val_loss: 0.6671\n",
            "Epoch 5/10\n",
            "122/122 [==============================] - 0s 4ms/step - loss: 0.6013 - val_loss: 0.6385\n",
            "Epoch 6/10\n",
            "122/122 [==============================] - 0s 3ms/step - loss: 0.5815 - val_loss: 0.6167\n",
            "Epoch 7/10\n",
            "122/122 [==============================] - 0s 4ms/step - loss: 0.5685 - val_loss: 0.6050\n",
            "Epoch 8/10\n",
            "122/122 [==============================] - 0s 4ms/step - loss: 0.5628 - val_loss: 0.5955\n",
            "Epoch 9/10\n",
            "122/122 [==============================] - 0s 4ms/step - loss: 0.5541 - val_loss: 0.5850\n",
            "Epoch 10/10\n",
            "122/122 [==============================] - 0s 3ms/step - loss: 0.5483 - val_loss: 0.5807\n",
            "-----model_mlp_2-----\n",
            "Epoch 1/10\n",
            "122/122 [==============================] - 1s 4ms/step - loss: 6.8916 - val_loss: 0.9580\n",
            "Epoch 2/10\n",
            "122/122 [==============================] - 0s 3ms/step - loss: 0.7694 - val_loss: 0.7040\n",
            "Epoch 3/10\n",
            "122/122 [==============================] - 0s 3ms/step - loss: 0.6466 - val_loss: 0.6499\n",
            "Epoch 4/10\n",
            "122/122 [==============================] - 0s 2ms/step - loss: 0.6116 - val_loss: 0.6231\n",
            "Epoch 5/10\n",
            "122/122 [==============================] - 0s 2ms/step - loss: 0.5890 - val_loss: 0.6049\n",
            "Epoch 6/10\n",
            "122/122 [==============================] - 0s 3ms/step - loss: 0.5723 - val_loss: 0.5953\n",
            "Epoch 7/10\n",
            "122/122 [==============================] - 0s 2ms/step - loss: 0.5615 - val_loss: 0.5838\n",
            "Epoch 8/10\n",
            "122/122 [==============================] - 0s 2ms/step - loss: 0.5494 - val_loss: 0.5752\n",
            "Epoch 9/10\n",
            "122/122 [==============================] - 0s 2ms/step - loss: 0.5424 - val_loss: 0.5776\n",
            "Epoch 10/10\n",
            "122/122 [==============================] - 0s 2ms/step - loss: 0.5429 - val_loss: 0.5707\n"
          ]
        }
      ]
    },
    {
      "cell_type": "code",
      "source": [
        "model_mlp_3 = keras.Sequential([\n",
        "    layers.Dense(64, activation='relu', input_shape=(input_dim,)),\n",
        "    layers.Dense(64, activation='sigmoid'),\n",
        "    layers.Dense(1)\n",
        "])\n",
        "\n",
        "model_mlp_3.compile(optimizer='sgd', loss='mse')\n",
        "\n",
        "print('-----model_mlp_3-----')\n",
        "history_mlp_3 = model_mlp_3.fit(X_train, y_train, epochs=10, batch_size=32, validation_data=(X_val, y_val))\n"
      ],
      "metadata": {
        "colab": {
          "base_uri": "https://localhost:8080/"
        },
        "id": "WZv35dRPZs-c",
        "outputId": "9f01c24a-3103-4ab1-bdbf-b5c97c344d78"
      },
      "execution_count": null,
      "outputs": [
        {
          "output_type": "stream",
          "name": "stdout",
          "text": [
            "-----model_mlp_3-----\n",
            "Epoch 1/10\n",
            "122/122 [==============================] - 1s 3ms/step - loss: 1.2898 - val_loss: 0.8435\n",
            "Epoch 2/10\n",
            "122/122 [==============================] - 0s 2ms/step - loss: 0.7260 - val_loss: 0.7920\n",
            "Epoch 3/10\n",
            "122/122 [==============================] - 0s 2ms/step - loss: 0.7161 - val_loss: 0.7959\n",
            "Epoch 4/10\n",
            "122/122 [==============================] - 0s 2ms/step - loss: 0.7028 - val_loss: 0.7792\n",
            "Epoch 5/10\n",
            "122/122 [==============================] - 0s 2ms/step - loss: 0.6909 - val_loss: 0.7661\n",
            "Epoch 6/10\n",
            "122/122 [==============================] - 0s 2ms/step - loss: 0.6797 - val_loss: 0.7341\n",
            "Epoch 7/10\n",
            "122/122 [==============================] - 0s 2ms/step - loss: 0.6681 - val_loss: 0.7209\n",
            "Epoch 8/10\n",
            "122/122 [==============================] - 0s 2ms/step - loss: 0.6551 - val_loss: 0.7162\n",
            "Epoch 9/10\n",
            "122/122 [==============================] - 0s 2ms/step - loss: 0.6423 - val_loss: 0.7066\n",
            "Epoch 10/10\n",
            "122/122 [==============================] - 0s 2ms/step - loss: 0.6310 - val_loss: 0.6797\n"
          ]
        }
      ]
    },
    {
      "cell_type": "code",
      "source": [
        "plt.plot(history_mlp.history['loss'], label='MLP_relu')\n",
        "plt.plot(history_mlp_1.history['loss'], label='MLP_sigmoid')\n",
        "plt.plot(history_mlp_2.history['loss'], label='MLP_elu')\n",
        "plt.plot(history_mlp_3.history['loss'], label='MLP_sgd')\n",
        "plt.title('Training Loss')\n",
        "plt.xlabel('Epochs')\n",
        "plt.ylabel('Loss')\n",
        "plt.legend()\n",
        "plt.show()"
      ],
      "metadata": {
        "colab": {
          "base_uri": "https://localhost:8080/",
          "height": 472
        },
        "id": "NdoCwh9xfkI2",
        "outputId": "b33c34c1-bc7a-4369-cf81-1b3e07e0aa14"
      },
      "execution_count": null,
      "outputs": [
        {
          "output_type": "display_data",
          "data": {
            "text/plain": [
              "<Figure size 640x480 with 1 Axes>"
            ],
            "image/png": "[encoded data removed]"
          },
          "metadata": {}
        }
      ]
    },
    {
      "cell_type": "markdown",
      "source": [
        "After tuning the model using different activation funtion, Exponential linear Unit (ELU) resulted in the smallest or minimum loss among the 3 activation function used (RELU, Sigmoid, and ELU). Hence, neural network with MLP and ELU as activation function has the best perfomance\n",
        "\n",
        "\n",
        "---\n",
        "After tuning with different optimizer, using Adam optimizer resulted in the smallest or minimum loss compared to using SGD optimizer. Hence, MLP with Adam optimizer has the best performance.\n"
      ],
      "metadata": {
        "id": "2NZAunxPgxlt"
      }
    },
    {
      "cell_type": "markdown",
      "source": [
        "| Activation function | RELU | Sigmoid | ELU|\n",
        "|----------|----------|----------|--------|\n",
        "|   Loss after 10 epochs |   0.5500  |  0.5483  | 0.5429|\n",
        "\n",
        "\n",
        "---\n",
        "\n",
        "| Optimizer | Adam | SGD |\n",
        "|----------|----------|----------|\n",
        "|   Loss after 10 epochs |   0.5500  |  0.6310  |\n",
        "\n"
      ],
      "metadata": {
        "id": "EPwNUFEEhP0T"
      }
    },
    {
      "cell_type": "markdown",
      "source": [
        "# 4. Model Evaluation – Using the best model that you have identified in Step 3, evaluate its performance on testing data.\n",
        "Compare your validation and testing results using appropriate evaluation metrics.\n",
        "Report your observation and discuss the results."
      ],
      "metadata": {
        "id": "LWXgDe2c6IX9"
      }
    },
    {
      "cell_type": "code",
      "source": [
        "# Evaluate the model on the validation data\n",
        "accuracy_val = model_mlp_2.evaluate(X_val, y_val)\n",
        "\n",
        "# Evaluate the model on the test data\n",
        "accuracy_test = model_mlp_2.evaluate(X_test, y_test)\n",
        "\n",
        "# Print the accuracy\n",
        "print(\"Validation result Accuracy:\", accuracy_val)\n",
        "print(\"Testing result Accuracy:\", accuracy_test)\n"
      ],
      "metadata": {
        "colab": {
          "base_uri": "https://localhost:8080/"
        },
        "id": "D-b9TLrZJFB6",
        "outputId": "a7dbca15-a4cf-40fd-cfc2-8c94ae944d98"
      },
      "execution_count": null,
      "outputs": [
        {
          "output_type": "stream",
          "name": "stdout",
          "text": [
            "41/41 [==============================] - 0s 2ms/step - loss: 0.6358\n",
            "41/41 [==============================] - 0s 2ms/step - loss: 0.6265\n",
            "Validation result Accuracy: 0.6357679963111877\n",
            "Testing result Accuracy: 0.6264781355857849\n"
          ]
        }
      ]
    },
    {
      "cell_type": "markdown",
      "source": [
        "Based on the accuracy, validation result accuracy is slightly higher than test result accuracy by 0.0093. This indicates that the model's performance on the validation set is a good estimate of its perfomance on unseen data. If the difference is significantly big, then the model is overfit. But in this case, the model performed is well-fitting."
      ],
      "metadata": {
        "id": "H5RoWJ4COG7e"
      }
    }
  ]
}